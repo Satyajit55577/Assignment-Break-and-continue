{
 "cells": [
  {
   "cell_type": "code",
   "execution_count": 5,
   "id": "e0fd5943-9f90-4d70-a5e9-f2d79db36478",
   "metadata": {},
   "outputs": [
    {
     "name": "stdout",
     "output_type": "stream",
     "text": [
      "1 2 3 4 5 "
     ]
    }
   ],
   "source": [
    "# Q1 Answer: Print numbers from 1 to 10 but stop if the number is 5\n",
    "for i in range(1,11):\n",
    "    print(i,end=\" \")\n",
    "    if i == 5:\n",
    "        break"
   ]
  },
  {
   "cell_type": "code",
   "execution_count": 8,
   "id": "43a57641-568a-492e-840a-992c32320015",
   "metadata": {},
   "outputs": [
    {
     "name": "stdout",
     "output_type": "stream",
     "text": [
      "Urvi Ajay 5 "
     ]
    }
   ],
   "source": [
    "# Q2 Answer: \n",
    "list = [\"Urvi\", \"Ajay\", 5, 7-3j, 3.69]\n",
    "# We will iterate through the above list and stop when we encounter the element 5\n",
    "for i in list:\n",
    "    print(i, end=\" \")\n",
    "    if i == 5:\n",
    "        break"
   ]
  },
  {
   "cell_type": "code",
   "execution_count": 11,
   "id": "a4a7cc05-f69a-47c1-b969-b3b382d86441",
   "metadata": {},
   "outputs": [
    {
     "name": "stdout",
     "output_type": "stream",
     "text": [
      "1 3 5 7 9 "
     ]
    }
   ],
   "source": [
    "# Q3 Answer: Skip printing the even numbers from 1 to 10\n",
    "for i in range(1,11):\n",
    "    # We've to skip printing the even numbers for which we use the 'pass' statement\n",
    "    # Also we know that if remainder of a (number/2) is 0 [i.e number % 2 = 0], then that number is even\n",
    "    if i % 2 == 0:\n",
    "        pass\n",
    "    else:\n",
    "        print(i, end=\" \")"
   ]
  },
  {
   "cell_type": "code",
   "execution_count": 16,
   "id": "f592b024-ef03-455b-961c-c73dcbf9146b",
   "metadata": {},
   "outputs": [
    {
     "name": "stdout",
     "output_type": "stream",
     "text": [
      "0 1 2 3 4 5 6 7 8 9 "
     ]
    }
   ],
   "source": [
    "# Q4 Amswer: Print number from 0 to 9 using range function\n",
    "for i in range(0,10):\n",
    "    print(i, end=\" \")"
   ]
  },
  {
   "cell_type": "code",
   "execution_count": 1,
   "id": "d381ba56-57de-455e-9a75-8274dc2276ea",
   "metadata": {},
   "outputs": [
    {
     "name": "stdin",
     "output_type": "stream",
     "text": [
      "Enter n:  4\n"
     ]
    },
    {
     "name": "stdout",
     "output_type": "stream",
     "text": [
      "4 * 1 = 4\n",
      "4 * 2 = 8\n",
      "4 * 3 = 12\n",
      "4 * 4 = 16\n",
      "4 * 5 = 20\n"
     ]
    }
   ],
   "source": [
    "# Q5 Answer\n",
    "n = int(input(\"Enter n: \"))\n",
    "for i in range(1,11):\n",
    "    if i == 6:\n",
    "        break\n",
    "    else:\n",
    "        print(n, \"*\", i, \"=\", n*i)"
   ]
  },
  {
   "cell_type": "code",
   "execution_count": 10,
   "id": "b2d8ced4-3b83-4062-8b7a-d2285c09ca65",
   "metadata": {},
   "outputs": [
    {
     "name": "stdin",
     "output_type": "stream",
     "text": [
      "Enter n so that we print numbers from 1 to n by skipping the even numbers in it:  19\n"
     ]
    },
    {
     "name": "stdout",
     "output_type": "stream",
     "text": [
      "1 3 5 7 9 11 13 15 17 19 "
     ]
    }
   ],
   "source": [
    "# Q6 Answer:Skip printing even numbers by using while loop\n",
    "n = int(input(\"Enter n so that we print numbers from 1 to n by skipping the even numbers in it: \"))\n",
    "i = 0\n",
    "while i <= n:\n",
    "    i += 1\n",
    "    if i % 2 == 0:\n",
    "        pass\n",
    "    else:\n",
    "        print(i, end=\" \")    "
   ]
  },
  {
   "cell_type": "code",
   "execution_count": null,
   "id": "11229e81-bfbe-4acf-84da-17159f3e5fe7",
   "metadata": {},
   "outputs": [],
   "source": [
    "\n"
   ]
  }
 ],
 "metadata": {
  "kernelspec": {
   "display_name": "Python 3 (ipykernel)",
   "language": "python",
   "name": "python3"
  },
  "language_info": {
   "codemirror_mode": {
    "name": "ipython",
    "version": 3
   },
   "file_extension": ".py",
   "mimetype": "text/x-python",
   "name": "python",
   "nbconvert_exporter": "python",
   "pygments_lexer": "ipython3",
   "version": "3.10.8"
  }
 },
 "nbformat": 4,
 "nbformat_minor": 5
}
